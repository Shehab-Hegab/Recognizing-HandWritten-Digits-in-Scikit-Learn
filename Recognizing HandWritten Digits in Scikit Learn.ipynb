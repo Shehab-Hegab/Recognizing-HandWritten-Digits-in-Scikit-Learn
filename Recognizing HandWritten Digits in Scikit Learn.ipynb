{
  "nbformat": 4,
  "nbformat_minor": 0,
  "metadata": {
    "colab": {
      "provenance": []
    },
    "kernelspec": {
      "name": "python3",
      "display_name": "Python 3"
    },
    "language_info": {
      "name": "python"
    }
  },
  "cells": [
    {
      "cell_type": "code",
      "execution_count": 1,
      "metadata": {
        "colab": {
          "base_uri": "https://localhost:8080/"
        },
        "id": "mqKyn2DmmfTf",
        "outputId": "39a8f11b-e335-45d4-cb50-0bcad40cde9f"
      },
      "outputs": [
        {
          "output_type": "execute_result",
          "data": {
            "text/plain": [
              "['DESCR', 'data', 'feature_names', 'frame', 'images', 'target', 'target_names']"
            ]
          },
          "metadata": {},
          "execution_count": 1
        }
      ],
      "source": [
        "# importing the hand written digit dataset\n",
        "\n",
        "from sklearn import datasets\n",
        "\n",
        "# digit contain the dataset\n",
        "\n",
        "digits = datasets.load_digits()\n",
        "\n",
        "\n",
        "# dir function use to display the attributes of the dataset\n",
        "\n",
        "dir(digits)"
      ]
    },
    {
      "cell_type": "markdown",
      "source": [
        "Function to print a set of image\n",
        "\n",
        "digits.image is a three-dimensional array. The first dimension indexes images, and we can see\n",
        "that there are 1797 in total.\n",
        "\n",
        "The following two dimensions relate to each image’s pixels’ x and y coordinates.\n",
        "\n",
        "Each image is 8×8 = 64 pixels in size. In other terms, this array may be represented in 3D as a stack of 8×8 pixel images."
      ],
      "metadata": {
        "id": "YKUYYU88nALP"
      }
    },
    {
      "cell_type": "code",
      "source": [
        "# Outputting the picture value as a series of numbers\n",
        "print(digits.images[0])"
      ],
      "metadata": {
        "colab": {
          "base_uri": "https://localhost:8080/"
        },
        "id": "Dlziz4kamz0S",
        "outputId": "a8a028f9-253d-484f-b785-e560bb9b90d8"
      },
      "execution_count": 2,
      "outputs": [
        {
          "output_type": "stream",
          "name": "stdout",
          "text": [
            "[[ 0.  0.  5. 13.  9.  1.  0.  0.]\n",
            " [ 0.  0. 13. 15. 10. 15.  5.  0.]\n",
            " [ 0.  3. 15.  2.  0. 11.  8.  0.]\n",
            " [ 0.  4. 12.  0.  0.  8.  8.  0.]\n",
            " [ 0.  5.  8.  0.  0.  9.  8.  0.]\n",
            " [ 0.  4. 11.  0.  1. 12.  7.  0.]\n",
            " [ 0.  2. 14.  5. 10. 12.  0.  0.]\n",
            " [ 0.  0.  6. 13. 10.  0.  0.  0.]]\n"
          ]
        }
      ]
    },
    {
      "cell_type": "markdown",
      "source": [
        "The original digits had much higher resolution, and the resolution was reduced when preparing the dataset for scikit-learn to allow training a machine learning system to recognize these digits easier and faster. Because at such a low resolution, even a human would struggle to recognize some of the digits The low quality of the input photos will also limit our neural network in these settings. Is the neural network capable of doing at least as well as an individual? It would already be an accomplishment!"
      ],
      "metadata": {
        "id": "Dw9jreiynbHQ"
      }
    },
    {
      "cell_type": "code",
      "source": [
        "# importing the matplotlib libraries pyplot function\n",
        "import matplotlib.pyplot as plt\n",
        "# defining the function plot_multi\n",
        "\n",
        "def plot_multi(i):\n",
        "    nplots = 16\n",
        "    fig = plt.figure(figsize=(15, 15))\n",
        "    for j in range(nplots):\n",
        "        plt.subplot(4, 4, j+1)\n",
        "        plt.imshow(digits.images[i+j], cmap='binary')\n",
        "        plt.title(digits.target[i+j])\n",
        "        plt.axis('off')\n",
        "    # printing the each digits in the dataset.\n",
        "    plt.show()\n",
        "\n",
        "    plot_multi(0)"
      ],
      "metadata": {
        "id": "RMjZfyRtnMPy"
      },
      "execution_count": 4,
      "outputs": []
    },
    {
      "cell_type": "markdown",
      "source": [
        "![image.png](data:image/png;base64,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)"
      ],
      "metadata": {
        "id": "87cCvXi4oVwm"
      }
    },
    {
      "cell_type": "markdown",
      "source": [
        "#Training Neural network with the dataset\n",
        "A neural network is a set of algorithms that attempts to recognize underlying relationships in a batch of data using a technique similar to how the human brain works. In this context, neural networks are systems of neurons that might be organic or artificial in nature.\n",
        "\n",
        "an input layer consisting of 64 nodes, one for each pixel in the input pictures They simply send their input value to the neurons of the following layer.\n",
        "\n",
        "This is a dense neural network, meaning each node in each layer is linked to all nodes in the preceding and following levels.\n",
        "\n",
        "The input layer expects a one-dimensional array, whereas the image datasets are two-dimensional. As a result, flattening all images process takes place:"
      ],
      "metadata": {
        "id": "FlQVizJ9oq3d"
      }
    },
    {
      "cell_type": "code",
      "source": [
        "# converting the 2 dimensional array to one dimensional array\n",
        "\n",
        "y = digits.target\n",
        "x = digits.images.reshape(len(digits.images), -1)\n",
        "\n",
        "# gives the shape of the data\n",
        "\n",
        "x.shape"
      ],
      "metadata": {
        "colab": {
          "base_uri": "https://localhost:8080/"
        },
        "id": "N_MNHtyCoRny",
        "outputId": "a01c8f62-da03-4349-a1e5-85554bd17ecd"
      },
      "execution_count": 5,
      "outputs": [
        {
          "output_type": "execute_result",
          "data": {
            "text/plain": [
              "(1797, 64)"
            ]
          },
          "metadata": {},
          "execution_count": 5
        }
      ]
    },
    {
      "cell_type": "markdown",
      "source": [
        "The 8×8 images’ two dimensions have been merged into a single dimension by composing the rows of 8 pixels one after the other. The first image, which we discussed before, is now represented as a 1-D array having 8×8 = 64 slots."
      ],
      "metadata": {
        "id": "vxMddYSVpIZ5"
      }
    },
    {
      "cell_type": "code",
      "source": [
        "# printing the one-dimensional array's values\n",
        "x[0]"
      ],
      "metadata": {
        "colab": {
          "base_uri": "https://localhost:8080/"
        },
        "id": "QQZ_eVUVpKX8",
        "outputId": "afb55718-3e86-40b6-b96d-7f97b70b9625"
      },
      "execution_count": 6,
      "outputs": [
        {
          "output_type": "execute_result",
          "data": {
            "text/plain": [
              "array([ 0.,  0.,  5., 13.,  9.,  1.,  0.,  0.,  0.,  0., 13., 15., 10.,\n",
              "       15.,  5.,  0.,  0.,  3., 15.,  2.,  0., 11.,  8.,  0.,  0.,  4.,\n",
              "       12.,  0.,  0.,  8.,  8.,  0.,  0.,  5.,  8.,  0.,  0.,  9.,  8.,\n",
              "        0.,  0.,  4., 11.,  0.,  1., 12.,  7.,  0.,  0.,  2., 14.,  5.,\n",
              "       10., 12.,  0.,  0.,  0.,  0.,  6., 13., 10.,  0.,  0.,  0.])"
            ]
          },
          "metadata": {},
          "execution_count": 6
        }
      ]
    },
    {
      "cell_type": "markdown",
      "source": [
        "#Data split for training and testing.\n",
        "When machine learning algorithms are used to make predictions based on data that was not used to train the model, the train-test split process is used to measure their performance.\n",
        "\n",
        "It is a quick and simple technique that allows you to compare the performance of algorithms for machine learning for your predictive modeling challenge."
      ],
      "metadata": {
        "id": "urIV-ctbpYSt"
      }
    },
    {
      "cell_type": "code",
      "source": [
        "# Very first 1000 photographs and\n",
        "# labels will be used in training.\n",
        "x_train = x[:1000]\n",
        "y_train = y[:1000]\n",
        "\n",
        "# The leftover dataset will be utilised to\n",
        "# test the network's performace later on\n",
        "x_test = x[1000:]\n",
        "y_test = y[1000:]"
      ],
      "metadata": {
        "id": "cs4U66udpBYu"
      },
      "execution_count": 7,
      "outputs": []
    },
    {
      "cell_type": "markdown",
      "source": [
        "#Usage of Multi-Layer Perceptron classifier\n",
        "MLP stands for multi-layer perceptron. It consists of densely connected layers that translate any input dimension to the required dimension. A multi-layer perception is a neural network with multiple layers. To build a neural network, we connect neurons so that their outputs become the inputs of other neurons."
      ],
      "metadata": {
        "id": "8ePuLV4ap9UZ"
      }
    },
    {
      "cell_type": "code",
      "source": [
        "# importing the MLP classifier from sklearn\n",
        "from sklearn.neural_network import MLPClassifier\n",
        "\n",
        "# calling the MLP classifier with specific parameters\n",
        "mlp = MLPClassifier(hidden_layer_sizes=(15,),\n",
        "                    activation='logistic',\n",
        "                    alpha=1e-4, solver='sgd',\n",
        "                    tol=1e-4, random_state=1,\n",
        "                    learning_rate_init=.1,\n",
        "                    verbose=True)"
      ],
      "metadata": {
        "id": "4lXBY41tp1Ct"
      },
      "execution_count": 8,
      "outputs": []
    },
    {
      "cell_type": "markdown",
      "source": [
        "Now is the time to train our MLP model on the training data."
      ],
      "metadata": {
        "id": "2XVelsXbrDqP"
      }
    },
    {
      "cell_type": "code",
      "source": [
        "mlp.fit(x_train, y_train)"
      ],
      "metadata": {
        "colab": {
          "base_uri": "https://localhost:8080/",
          "height": 1000
        },
        "id": "5LZFdcg3rCSH",
        "outputId": "95f594bc-b174-4c55-9b52-ab66a9dfc045"
      },
      "execution_count": 9,
      "outputs": [
        {
          "output_type": "stream",
          "name": "stdout",
          "text": [
            "Iteration 1, loss = 2.22958289\n",
            "Iteration 2, loss = 1.91207743\n",
            "Iteration 3, loss = 1.62507727\n",
            "Iteration 4, loss = 1.32649842\n",
            "Iteration 5, loss = 1.06100535\n",
            "Iteration 6, loss = 0.83995513\n",
            "Iteration 7, loss = 0.67806075\n",
            "Iteration 8, loss = 0.55175832\n",
            "Iteration 9, loss = 0.45840445\n",
            "Iteration 10, loss = 0.39149735\n",
            "Iteration 11, loss = 0.33676351\n",
            "Iteration 12, loss = 0.29059880\n",
            "Iteration 13, loss = 0.25437208\n",
            "Iteration 14, loss = 0.22838372\n",
            "Iteration 15, loss = 0.20200554\n",
            "Iteration 16, loss = 0.18186565\n",
            "Iteration 17, loss = 0.16461183\n",
            "Iteration 18, loss = 0.14990228\n",
            "Iteration 19, loss = 0.13892154\n",
            "Iteration 20, loss = 0.12833784\n",
            "Iteration 21, loss = 0.12138920\n",
            "Iteration 22, loss = 0.11407971\n",
            "Iteration 23, loss = 0.10677664\n",
            "Iteration 24, loss = 0.10037149\n",
            "Iteration 25, loss = 0.09593187\n",
            "Iteration 26, loss = 0.09250135\n",
            "Iteration 27, loss = 0.08676698\n",
            "Iteration 28, loss = 0.08356043\n",
            "Iteration 29, loss = 0.08209789\n",
            "Iteration 30, loss = 0.07649168\n",
            "Iteration 31, loss = 0.07410898\n",
            "Iteration 32, loss = 0.07126869\n",
            "Iteration 33, loss = 0.06926956\n",
            "Iteration 34, loss = 0.06578496\n",
            "Iteration 35, loss = 0.06374913\n",
            "Iteration 36, loss = 0.06175492\n",
            "Iteration 37, loss = 0.05975664\n",
            "Iteration 38, loss = 0.05764485\n",
            "Iteration 39, loss = 0.05623663\n",
            "Iteration 40, loss = 0.05420966\n",
            "Iteration 41, loss = 0.05413911\n",
            "Iteration 42, loss = 0.05256140\n",
            "Iteration 43, loss = 0.05020265\n",
            "Iteration 44, loss = 0.04902779\n",
            "Iteration 45, loss = 0.04788382\n",
            "Iteration 46, loss = 0.04655532\n",
            "Iteration 47, loss = 0.04586089\n",
            "Iteration 48, loss = 0.04451758\n",
            "Iteration 49, loss = 0.04341598\n",
            "Iteration 50, loss = 0.04238096\n",
            "Iteration 51, loss = 0.04162200\n",
            "Iteration 52, loss = 0.04076839\n",
            "Iteration 53, loss = 0.04003180\n",
            "Iteration 54, loss = 0.03907774\n",
            "Iteration 55, loss = 0.03815565\n",
            "Iteration 56, loss = 0.03791975\n",
            "Iteration 57, loss = 0.03706276\n",
            "Iteration 58, loss = 0.03617874\n",
            "Iteration 59, loss = 0.03593227\n",
            "Iteration 60, loss = 0.03504175\n",
            "Iteration 61, loss = 0.03441259\n",
            "Iteration 62, loss = 0.03397449\n",
            "Iteration 63, loss = 0.03326990\n",
            "Iteration 64, loss = 0.03305025\n",
            "Iteration 65, loss = 0.03244893\n",
            "Iteration 66, loss = 0.03191504\n",
            "Iteration 67, loss = 0.03132169\n",
            "Iteration 68, loss = 0.03079707\n",
            "Iteration 69, loss = 0.03044946\n",
            "Iteration 70, loss = 0.03005546\n",
            "Iteration 71, loss = 0.02960555\n",
            "Iteration 72, loss = 0.02912799\n",
            "Iteration 73, loss = 0.02859103\n",
            "Iteration 74, loss = 0.02825959\n",
            "Iteration 75, loss = 0.02788968\n",
            "Iteration 76, loss = 0.02748725\n",
            "Iteration 77, loss = 0.02721247\n",
            "Iteration 78, loss = 0.02686225\n",
            "Iteration 79, loss = 0.02635636\n",
            "Iteration 80, loss = 0.02607439\n",
            "Iteration 81, loss = 0.02577613\n",
            "Iteration 82, loss = 0.02553642\n",
            "Iteration 83, loss = 0.02518749\n",
            "Iteration 84, loss = 0.02484300\n",
            "Iteration 85, loss = 0.02455379\n",
            "Iteration 86, loss = 0.02432480\n",
            "Iteration 87, loss = 0.02398548\n",
            "Iteration 88, loss = 0.02376004\n",
            "Iteration 89, loss = 0.02341261\n",
            "Iteration 90, loss = 0.02318255\n",
            "Iteration 91, loss = 0.02296065\n",
            "Iteration 92, loss = 0.02274048\n",
            "Iteration 93, loss = 0.02241054\n",
            "Iteration 94, loss = 0.02208181\n",
            "Iteration 95, loss = 0.02190861\n",
            "Iteration 96, loss = 0.02174404\n",
            "Iteration 97, loss = 0.02156939\n",
            "Iteration 98, loss = 0.02119768\n",
            "Iteration 99, loss = 0.02101874\n",
            "Iteration 100, loss = 0.02078230\n",
            "Iteration 101, loss = 0.02061573\n",
            "Iteration 102, loss = 0.02039802\n",
            "Iteration 103, loss = 0.02017245\n",
            "Iteration 104, loss = 0.01997162\n",
            "Iteration 105, loss = 0.01989280\n",
            "Iteration 106, loss = 0.01963828\n",
            "Iteration 107, loss = 0.01941850\n",
            "Iteration 108, loss = 0.01933154\n",
            "Iteration 109, loss = 0.01911473\n",
            "Iteration 110, loss = 0.01905371\n",
            "Iteration 111, loss = 0.01876085\n",
            "Iteration 112, loss = 0.01860656\n",
            "Iteration 113, loss = 0.01848655\n",
            "Iteration 114, loss = 0.01834844\n",
            "Iteration 115, loss = 0.01818981\n",
            "Iteration 116, loss = 0.01798523\n",
            "Iteration 117, loss = 0.01783630\n",
            "Iteration 118, loss = 0.01771441\n",
            "Iteration 119, loss = 0.01749814\n",
            "Iteration 120, loss = 0.01738339\n",
            "Iteration 121, loss = 0.01726549\n",
            "Iteration 122, loss = 0.01709638\n",
            "Iteration 123, loss = 0.01698340\n",
            "Iteration 124, loss = 0.01684606\n",
            "Iteration 125, loss = 0.01667016\n",
            "Iteration 126, loss = 0.01654172\n",
            "Iteration 127, loss = 0.01641832\n",
            "Iteration 128, loss = 0.01630111\n",
            "Iteration 129, loss = 0.01623051\n",
            "Iteration 130, loss = 0.01612736\n",
            "Iteration 131, loss = 0.01590220\n",
            "Iteration 132, loss = 0.01582485\n",
            "Iteration 133, loss = 0.01571372\n",
            "Iteration 134, loss = 0.01560349\n",
            "Iteration 135, loss = 0.01557688\n",
            "Iteration 136, loss = 0.01534420\n",
            "Iteration 137, loss = 0.01527883\n",
            "Iteration 138, loss = 0.01517545\n",
            "Iteration 139, loss = 0.01503663\n",
            "Iteration 140, loss = 0.01501192\n",
            "Iteration 141, loss = 0.01482535\n",
            "Iteration 142, loss = 0.01471388\n",
            "Iteration 143, loss = 0.01463948\n",
            "Iteration 144, loss = 0.01454059\n",
            "Iteration 145, loss = 0.01441742\n",
            "Iteration 146, loss = 0.01431741\n",
            "Iteration 147, loss = 0.01428414\n",
            "Iteration 148, loss = 0.01416364\n",
            "Iteration 149, loss = 0.01406742\n",
            "Iteration 150, loss = 0.01402651\n",
            "Iteration 151, loss = 0.01389720\n",
            "Iteration 152, loss = 0.01381412\n",
            "Iteration 153, loss = 0.01371300\n",
            "Iteration 154, loss = 0.01362465\n",
            "Iteration 155, loss = 0.01357048\n",
            "Iteration 156, loss = 0.01348760\n",
            "Iteration 157, loss = 0.01339543\n",
            "Iteration 158, loss = 0.01331941\n",
            "Iteration 159, loss = 0.01320812\n",
            "Iteration 160, loss = 0.01315415\n",
            "Iteration 161, loss = 0.01308279\n",
            "Iteration 162, loss = 0.01302708\n",
            "Iteration 163, loss = 0.01290042\n",
            "Iteration 164, loss = 0.01289267\n",
            "Iteration 165, loss = 0.01277558\n",
            "Iteration 166, loss = 0.01277238\n",
            "Iteration 167, loss = 0.01261308\n",
            "Iteration 168, loss = 0.01260611\n",
            "Iteration 169, loss = 0.01248789\n",
            "Iteration 170, loss = 0.01239662\n",
            "Iteration 171, loss = 0.01231743\n",
            "Iteration 172, loss = 0.01227346\n",
            "Iteration 173, loss = 0.01223136\n",
            "Iteration 174, loss = 0.01217211\n",
            "Iteration 175, loss = 0.01208682\n",
            "Iteration 176, loss = 0.01204707\n",
            "Iteration 177, loss = 0.01200225\n",
            "Iteration 178, loss = 0.01188677\n",
            "Iteration 179, loss = 0.01184993\n",
            "Iteration 180, loss = 0.01175130\n",
            "Iteration 181, loss = 0.01171178\n",
            "Iteration 182, loss = 0.01166052\n",
            "Iteration 183, loss = 0.01163843\n",
            "Iteration 184, loss = 0.01154892\n",
            "Iteration 185, loss = 0.01147629\n",
            "Iteration 186, loss = 0.01142365\n",
            "Iteration 187, loss = 0.01136608\n",
            "Iteration 188, loss = 0.01128053\n",
            "Iteration 189, loss = 0.01128869\n",
            "Training loss did not improve more than tol=0.000100 for 10 consecutive epochs. Stopping.\n"
          ]
        },
        {
          "output_type": "execute_result",
          "data": {
            "text/plain": [
              "MLPClassifier(activation='logistic', hidden_layer_sizes=(15,),\n",
              "              learning_rate_init=0.1, random_state=1, solver='sgd',\n",
              "              verbose=True)"
            ],
            "text/html": [
              "<style>#sk-container-id-1 {color: black;}#sk-container-id-1 pre{padding: 0;}#sk-container-id-1 div.sk-toggleable {background-color: white;}#sk-container-id-1 label.sk-toggleable__label {cursor: pointer;display: block;width: 100%;margin-bottom: 0;padding: 0.3em;box-sizing: border-box;text-align: center;}#sk-container-id-1 label.sk-toggleable__label-arrow:before {content: \"▸\";float: left;margin-right: 0.25em;color: #696969;}#sk-container-id-1 label.sk-toggleable__label-arrow:hover:before {color: black;}#sk-container-id-1 div.sk-estimator:hover label.sk-toggleable__label-arrow:before {color: black;}#sk-container-id-1 div.sk-toggleable__content {max-height: 0;max-width: 0;overflow: hidden;text-align: left;background-color: #f0f8ff;}#sk-container-id-1 div.sk-toggleable__content pre {margin: 0.2em;color: black;border-radius: 0.25em;background-color: #f0f8ff;}#sk-container-id-1 input.sk-toggleable__control:checked~div.sk-toggleable__content {max-height: 200px;max-width: 100%;overflow: auto;}#sk-container-id-1 input.sk-toggleable__control:checked~label.sk-toggleable__label-arrow:before {content: \"▾\";}#sk-container-id-1 div.sk-estimator input.sk-toggleable__control:checked~label.sk-toggleable__label {background-color: #d4ebff;}#sk-container-id-1 div.sk-label input.sk-toggleable__control:checked~label.sk-toggleable__label {background-color: #d4ebff;}#sk-container-id-1 input.sk-hidden--visually {border: 0;clip: rect(1px 1px 1px 1px);clip: rect(1px, 1px, 1px, 1px);height: 1px;margin: -1px;overflow: hidden;padding: 0;position: absolute;width: 1px;}#sk-container-id-1 div.sk-estimator {font-family: monospace;background-color: #f0f8ff;border: 1px dotted black;border-radius: 0.25em;box-sizing: border-box;margin-bottom: 0.5em;}#sk-container-id-1 div.sk-estimator:hover {background-color: #d4ebff;}#sk-container-id-1 div.sk-parallel-item::after {content: \"\";width: 100%;border-bottom: 1px solid gray;flex-grow: 1;}#sk-container-id-1 div.sk-label:hover label.sk-toggleable__label {background-color: #d4ebff;}#sk-container-id-1 div.sk-serial::before {content: \"\";position: absolute;border-left: 1px solid gray;box-sizing: border-box;top: 0;bottom: 0;left: 50%;z-index: 0;}#sk-container-id-1 div.sk-serial {display: flex;flex-direction: column;align-items: center;background-color: white;padding-right: 0.2em;padding-left: 0.2em;position: relative;}#sk-container-id-1 div.sk-item {position: relative;z-index: 1;}#sk-container-id-1 div.sk-parallel {display: flex;align-items: stretch;justify-content: center;background-color: white;position: relative;}#sk-container-id-1 div.sk-item::before, #sk-container-id-1 div.sk-parallel-item::before {content: \"\";position: absolute;border-left: 1px solid gray;box-sizing: border-box;top: 0;bottom: 0;left: 50%;z-index: -1;}#sk-container-id-1 div.sk-parallel-item {display: flex;flex-direction: column;z-index: 1;position: relative;background-color: white;}#sk-container-id-1 div.sk-parallel-item:first-child::after {align-self: flex-end;width: 50%;}#sk-container-id-1 div.sk-parallel-item:last-child::after {align-self: flex-start;width: 50%;}#sk-container-id-1 div.sk-parallel-item:only-child::after {width: 0;}#sk-container-id-1 div.sk-dashed-wrapped {border: 1px dashed gray;margin: 0 0.4em 0.5em 0.4em;box-sizing: border-box;padding-bottom: 0.4em;background-color: white;}#sk-container-id-1 div.sk-label label {font-family: monospace;font-weight: bold;display: inline-block;line-height: 1.2em;}#sk-container-id-1 div.sk-label-container {text-align: center;}#sk-container-id-1 div.sk-container {/* jupyter's `normalize.less` sets `[hidden] { display: none; }` but bootstrap.min.css set `[hidden] { display: none !important; }` so we also need the `!important` here to be able to override the default hidden behavior on the sphinx rendered scikit-learn.org. See: https://github.com/scikit-learn/scikit-learn/issues/21755 */display: inline-block !important;position: relative;}#sk-container-id-1 div.sk-text-repr-fallback {display: none;}</style><div id=\"sk-container-id-1\" class=\"sk-top-container\"><div class=\"sk-text-repr-fallback\"><pre>MLPClassifier(activation=&#x27;logistic&#x27;, hidden_layer_sizes=(15,),\n",
              "              learning_rate_init=0.1, random_state=1, solver=&#x27;sgd&#x27;,\n",
              "              verbose=True)</pre><b>In a Jupyter environment, please rerun this cell to show the HTML representation or trust the notebook. <br />On GitHub, the HTML representation is unable to render, please try loading this page with nbviewer.org.</b></div><div class=\"sk-container\" hidden><div class=\"sk-item\"><div class=\"sk-estimator sk-toggleable\"><input class=\"sk-toggleable__control sk-hidden--visually\" id=\"sk-estimator-id-1\" type=\"checkbox\" checked><label for=\"sk-estimator-id-1\" class=\"sk-toggleable__label sk-toggleable__label-arrow\">MLPClassifier</label><div class=\"sk-toggleable__content\"><pre>MLPClassifier(activation=&#x27;logistic&#x27;, hidden_layer_sizes=(15,),\n",
              "              learning_rate_init=0.1, random_state=1, solver=&#x27;sgd&#x27;,\n",
              "              verbose=True)</pre></div></div></div></div></div>"
            ]
          },
          "metadata": {},
          "execution_count": 9
        }
      ]
    },
    {
      "cell_type": "markdown",
      "source": [
        "Above shown is the loss for the last five epochs of the MLPClassifier and its respective configuration."
      ],
      "metadata": {
        "id": "Sx0-vZGorT_c"
      }
    },
    {
      "cell_type": "code",
      "source": [
        "fig, axes = plt.subplots(1,1)\n",
        "axes.plot(mlp.loss_curve_, 'o-')\n",
        "axes.set_xlabel(\"number of iteration\")\n",
        "axes.set_ylabel(\"loss\")\n",
        "plt.show()"
      ],
      "metadata": {
        "colab": {
          "base_uri": "https://localhost:8080/",
          "height": 449
        },
        "id": "AFl7R5CJrK63",
        "outputId": "93eed04b-2ed5-45a1-ab58-09b08cd89141"
      },
      "execution_count": 10,
      "outputs": [
        {
          "output_type": "display_data",
          "data": {
            "text/plain": [
              "<Figure size 640x480 with 1 Axes>"
            ],
            "image/png": "[encoded data removed]"
          },
          "metadata": {}
        }
      ]
    },
    {
      "cell_type": "markdown",
      "source": [
        "#Model Evaluation\n",
        "Now let’s check the performance of the model using the recognition dataset or it just has memorized it. We will do this by using the leftover testing data so, that we can check whether the model has learned the actual pattern in the digit"
      ],
      "metadata": {
        "id": "uoaMB7rarbAo"
      }
    },
    {
      "cell_type": "code",
      "source": [
        "predictions = mlp.predict(x_test)\n",
        "predictions[:50]"
      ],
      "metadata": {
        "colab": {
          "base_uri": "https://localhost:8080/"
        },
        "id": "sFNEH-NurzBe",
        "outputId": "22298b5e-36c6-479e-aaf5-57d619e75619"
      },
      "execution_count": 11,
      "outputs": [
        {
          "output_type": "execute_result",
          "data": {
            "text/plain": [
              "array([1, 4, 0, 5, 3, 6, 9, 6, 1, 7, 5, 4, 4, 7, 2, 8, 2, 2, 5, 7, 9, 5,\n",
              "       4, 4, 9, 0, 8, 9, 8, 0, 1, 2, 3, 4, 5, 6, 7, 8, 3, 0, 1, 2, 3, 4,\n",
              "       5, 6, 7, 8, 5, 0])"
            ]
          },
          "metadata": {},
          "execution_count": 11
        }
      ]
    },
    {
      "cell_type": "code",
      "source": [
        "y_test[:50]"
      ],
      "metadata": {
        "colab": {
          "base_uri": "https://localhost:8080/"
        },
        "id": "78ri8bzrsZwv",
        "outputId": "70c52838-436d-4d0e-8e46-ca3a43443d30"
      },
      "execution_count": 12,
      "outputs": [
        {
          "output_type": "execute_result",
          "data": {
            "text/plain": [
              "array([1, 4, 0, 5, 3, 6, 9, 6, 1, 7, 5, 4, 4, 7, 2, 8, 2, 2, 5, 7, 9, 5,\n",
              "       4, 4, 9, 0, 8, 9, 8, 0, 1, 2, 3, 4, 5, 6, 7, 8, 9, 0, 1, 2, 3, 4,\n",
              "       5, 6, 7, 8, 9, 0])"
            ]
          },
          "metadata": {},
          "execution_count": 12
        }
      ]
    },
    {
      "cell_type": "markdown",
      "source": [
        "So, by using the predicted labels and the ground truth labels we can find the accuracy of our model."
      ],
      "metadata": {
        "id": "VuJ1_hF6siE-"
      }
    },
    {
      "cell_type": "code",
      "source": [
        "# importing the accuracy_score from the sklearn\n",
        "from sklearn.metrics import accuracy_score\n",
        "\n",
        "# calculating the accuracy with y_test and predcitions\n",
        "accuracy_score(y_test, predictions)"
      ],
      "metadata": {
        "colab": {
          "base_uri": "https://localhost:8080/"
        },
        "id": "08nD9XPrscaZ",
        "outputId": "74bb42ec-e010-4b8c-f0a5-6dcd3caf7d39"
      },
      "execution_count": 14,
      "outputs": [
        {
          "output_type": "execute_result",
          "data": {
            "text/plain": [
              "0.9146800501882058"
            ]
          },
          "metadata": {},
          "execution_count": 14
        }
      ]
    }
  ]
}